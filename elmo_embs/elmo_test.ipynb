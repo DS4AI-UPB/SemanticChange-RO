{
 "cells": [
  {
   "cell_type": "code",
   "execution_count": null,
   "metadata": {
    "id": "JeZb1RsqbLDJ"
   },
   "outputs": [],
   "source": [
    "pip install allennlp-models==v2.0.1"
   ]
  },
  {
   "cell_type": "code",
   "execution_count": null,
   "metadata": {
    "id": "LYdcT1AXN4RN"
   },
   "outputs": [],
   "source": [
    "from allennlp_models.lm.modules.token_embedders.bidirectional_lm import BidirectionalLanguageModelTokenEmbedder\n",
    "from allennlp.data.token_indexers.elmo_indexer import ELMoTokenCharactersIndexer\n",
    "from allennlp.data.tokenizers.token_class import Token\n",
    "import torch"
   ]
  },
  {
   "cell_type": "code",
   "execution_count": null,
   "metadata": {
    "colab": {
     "base_uri": "https://localhost:8080/"
    },
    "executionInfo": {
     "elapsed": 6061,
     "status": "ok",
     "timestamp": 1657110097318,
     "user": {
      "displayName": "Victor Tudose",
      "userId": "08100577777112766705"
     },
     "user_tz": -180
    },
    "id": "dMlU2gKkcbiE",
    "outputId": "34d3d9d3-f529-412f-d496-5cf15e9661c8"
   },
   "outputs": [
    {
     "name": "stderr",
     "output_type": "stream",
     "text": [
      "/usr/local/lib/python3.7/dist-packages/allennlp_models/lm/modules/seq2seq_encoders/bidirectional_lm_transformer.py:224: ExperimentalFeatureWarning: This particular transformer implementation is a provisional feature that's intended for AI2 internal use and might be deleted at any time. If you use it, consider yourself warned!\n",
      "  ExperimentalFeatureWarning,\n"
     ]
    }
   ],
   "source": [
    "lm_model_file = \"model.tar.gz\"\n",
    "\n",
    "lm_embedder = BidirectionalLanguageModelTokenEmbedder(\n",
    "    archive_file=lm_model_file,\n",
    "    bos_eos_tokens=None\n",
    ")\n"
   ]
  },
  {
   "cell_type": "code",
   "execution_count": null,
   "metadata": {
    "colab": {
     "base_uri": "https://localhost:8080/"
    },
    "executionInfo": {
     "elapsed": 18079,
     "status": "ok",
     "timestamp": 1657112255344,
     "user": {
      "displayName": "Victor Tudose",
      "userId": "08100577777112766705"
     },
     "user_tz": -180
    },
    "id": "GGBP_p1AHh3Y",
    "outputId": "f002ee83-d8d7-4676-b703-538b25eb6195"
   },
   "outputs": [
    {
     "name": "stdout",
     "output_type": "stream",
     "text": [
      "torch.Size([1, 20, 1024]) and 8/22\n",
      "torch.Size([1, 114, 1024]) and 20/116\n",
      "torch.Size([1, 8, 1024]) and 6/10\n",
      "torch.Size([1, 5, 1024]) and 3/7\n",
      "torch.Size([1, 23, 1024]) and 2/25\n",
      "torch.Size([1, 54, 1024]) and 19/56\n",
      "torch.Size([1, 84, 1024]) and 68/86\n",
      "torch.Size([1, 7, 1024]) and 6/9\n",
      "torch.Size([1, 8, 1024]) and 4/10\n",
      "torch.Size([1, 9, 1024]) and 7/11\n",
      "torch.Size([1, 24, 1024]) and 16/26\n",
      "torch.Size([1, 19, 1024]) and 5/21\n",
      "torch.Size([1, 9, 1024]) and 1/11\n",
      "torch.Size([1, 22, 1024]) and 5/24\n",
      "torch.Size([1, 12, 1024]) and 9/14\n",
      "torch.Size([1, 5, 1024]) and 3/7\n",
      "torch.Size([1, 13, 1024]) and 7/15\n",
      "torch.Size([1, 12, 1024]) and 2/14\n",
      "torch.Size([1, 12, 1024]) and 4/14\n",
      "torch.Size([1, 11, 1024]) and 6/13\n",
      "torch.Size([1, 9, 1024]) and 5/11\n",
      "torch.Size([1, 10, 1024]) and 9/12\n",
      "torch.Size([1, 9, 1024]) and 1/11\n",
      "torch.Size([1, 3, 1024]) and 2/5\n",
      "torch.Size([1, 10, 1024]) and 4/12\n",
      "torch.Size([1, 31, 1024]) and 13/33\n",
      "torch.Size([1, 12, 1024]) and 7/14\n",
      "torch.Size([1, 12, 1024]) and 1/14\n",
      "torch.Size([1, 8, 1024]) and 5/10\n",
      "torch.Size([1, 49, 1024]) and 25/51\n",
      "torch.Size([1, 59, 1024]) and 6/61\n",
      "torch.Size([1, 8, 1024]) and 4/10\n",
      "torch.Size([1, 9, 1024]) and 3/11\n",
      "torch.Size([1, 12, 1024]) and 4/14\n",
      "torch.Size([1, 9, 1024]) and 4/11\n",
      "torch.Size([1, 12, 1024]) and 6/14\n",
      "torch.Size([1, 9, 1024]) and 2/11\n",
      "torch.Size([1, 8, 1024]) and 4/10\n",
      "torch.Size([1, 10, 1024]) and 5/12\n",
      "torch.Size([1, 10, 1024]) and 4/12\n",
      "torch.Size([1, 64, 1024]) and 30/66\n",
      "torch.Size([1, 20, 1024]) and 10/22\n",
      "torch.Size([1, 63, 1024]) and 25/65\n",
      "torch.Size([1, 9, 1024]) and 4/11\n",
      "torch.Size([1, 22, 1024]) and 7/24\n",
      "torch.Size([1, 10, 1024]) and 1/12\n",
      "torch.Size([1, 11, 1024]) and 8/13\n",
      "torch.Size([1, 7, 1024]) and 0/9\n",
      "torch.Size([1, 11, 1024]) and 10/13\n",
      "torch.Size([1, 4, 1024]) and 1/6\n",
      "torch.Size([1, 9, 1024]) and 1/11\n",
      "torch.Size([1, 5, 1024]) and 1/7\n",
      "torch.Size([1, 11, 1024]) and 1/13\n",
      "torch.Size([1, 53, 1024]) and 1/55\n",
      "torch.Size([1, 78, 1024]) and 23/80\n",
      "torch.Size([1, 49, 1024]) and 31/51\n",
      "torch.Size([1, 64, 1024]) and 40/66\n",
      "torch.Size([1, 85, 1024]) and 22/87\n",
      "torch.Size([1, 37, 1024]) and 8/39\n",
      "torch.Size([1, 18, 1024]) and 3/20\n",
      "torch.Size([1, 9, 1024]) and 8/11\n",
      "torch.Size([1, 9, 1024]) and 5/11\n",
      "torch.Size([1, 16, 1024]) and 12/18\n",
      "torch.Size([1, 12, 1024]) and 4/14\n",
      "torch.Size([1, 23, 1024]) and 11/25\n",
      "torch.Size([1, 6, 1024]) and 4/8\n",
      "torch.Size([1, 10, 1024]) and 9/12\n",
      "torch.Size([1, 23, 1024]) and 11/25\n",
      "torch.Size([1, 9, 1024]) and 4/11\n",
      "torch.Size([1, 10, 1024]) and 6/12\n",
      "torch.Size([1, 7, 1024]) and 5/9\n",
      "torch.Size([1, 10, 1024]) and 4/12\n",
      "torch.Size([1, 12, 1024]) and 7/14\n",
      "torch.Size([1, 9, 1024]) and 7/11\n",
      "torch.Size([1, 10, 1024]) and 6/12\n",
      "torch.Size([1, 10, 1024]) and 6/12\n",
      "torch.Size([1, 11, 1024]) and 2/13\n",
      "torch.Size([1, 7, 1024]) and 5/9\n",
      "torch.Size([1, 8, 1024]) and 3/10\n",
      "torch.Size([1, 9, 1024]) and 8/11\n",
      "torch.Size([1, 11, 1024]) and 7/13\n",
      "torch.Size([1, 10, 1024]) and 8/12\n",
      "torch.Size([1, 9, 1024]) and 7/11\n",
      "torch.Size([1, 9, 1024]) and 6/11\n",
      "torch.Size([1, 6, 1024]) and 4/8\n",
      "torch.Size([1, 8, 1024]) and 6/10\n",
      "torch.Size([1, 11, 1024]) and 7/13\n",
      "torch.Size([1, 6, 1024]) and 3/8\n",
      "torch.Size([1, 11, 1024]) and 0/13\n",
      "torch.Size([1, 7, 1024]) and 0/9\n",
      "torch.Size([1, 11, 1024]) and 5/13\n",
      "torch.Size([1, 10, 1024]) and 5/12\n",
      "torch.Size([1, 5, 1024]) and 0/7\n",
      "torch.Size([1, 9, 1024]) and 2/11\n",
      "torch.Size([1, 9, 1024]) and 0/11\n",
      "torch.Size([1, 12, 1024]) and 5/14\n",
      "torch.Size([1, 9, 1024]) and 3/11\n",
      "torch.Size([1, 22, 1024]) and 17/24\n",
      "torch.Size([1, 26, 1024]) and 3/28\n",
      "torch.Size([1, 26, 1024]) and 3/28\n",
      "torch.Size([1, 17, 1024]) and 4/19\n",
      "torch.Size([1, 36, 1024]) and 17/38\n",
      "torch.Size([1, 19, 1024]) and 12/21\n",
      "torch.Size([1, 10, 1024]) and 1/12\n",
      "torch.Size([1, 9, 1024]) and 4/11\n",
      "torch.Size([1, 11, 1024]) and 2/13\n",
      "torch.Size([1, 7, 1024]) and 5/9\n",
      "torch.Size([1, 24, 1024]) and 5/26\n",
      "torch.Size([1, 22, 1024]) and 4/24\n",
      "torch.Size([1, 26, 1024]) and 4/28\n",
      "torch.Size([1, 14, 1024]) and 2/16\n",
      "torch.Size([1, 13, 1024]) and 4/15\n",
      "torch.Size([1, 14, 1024]) and 10/16\n",
      "torch.Size([1, 14, 1024]) and 9/16\n",
      "torch.Size([1, 13, 1024]) and 6/15\n",
      "torch.Size([1, 3, 1024]) and 1/5\n",
      "torch.Size([1, 16, 1024]) and 6/18\n",
      "torch.Size([1, 49, 1024]) and 32/51\n",
      "torch.Size([1, 64, 1024]) and 41/66\n",
      "torch.Size([1, 113, 1024]) and 29/115\n",
      "torch.Size([1, 85, 1024]) and 23/87\n",
      "torch.Size([1, 51, 1024]) and 47/53\n",
      "torch.Size([1, 24, 1024]) and 7/26\n",
      "torch.Size([1, 24, 1024]) and 21/26\n",
      "torch.Size([1, 88, 1024]) and 17/90\n",
      "torch.Size([1, 63, 1024]) and 18/65\n",
      "torch.Size([1, 17, 1024]) and 0/19\n",
      "torch.Size([1, 8, 1024]) and 4/10\n",
      "torch.Size([1, 16, 1024]) and 13/18\n",
      "torch.Size([1, 10, 1024]) and 2/12\n",
      "torch.Size([1, 13, 1024]) and 3/15\n",
      "torch.Size([1, 13, 1024]) and 2/15\n",
      "torch.Size([1, 10, 1024]) and 3/12\n",
      "torch.Size([1, 10, 1024]) and 7/12\n",
      "torch.Size([1, 10, 1024]) and 4/12\n",
      "torch.Size([1, 11, 1024]) and 9/13\n",
      "torch.Size([1, 8, 1024]) and 5/10\n",
      "torch.Size([1, 9, 1024]) and 3/11\n",
      "torch.Size([1, 11, 1024]) and 9/13\n",
      "torch.Size([1, 12, 1024]) and 8/14\n",
      "torch.Size([1, 12, 1024]) and 3/14\n",
      "torch.Size([1, 10, 1024]) and 1/12\n",
      "torch.Size([1, 6, 1024]) and 0/8\n",
      "torch.Size([1, 11, 1024]) and 3/13\n",
      "torch.Size([1, 11, 1024]) and 7/13\n",
      "torch.Size([1, 8, 1024]) and 4/10\n",
      "torch.Size([1, 11, 1024]) and 3/13\n",
      "torch.Size([1, 10, 1024]) and 7/12\n",
      "torch.Size([1, 8, 1024]) and 2/10\n",
      "torch.Size([1, 11, 1024]) and 1/13\n",
      "torch.Size([1, 24, 1024]) and 13/26\n",
      "torch.Size([1, 14, 1024]) and 6/16\n",
      "torch.Size([1, 13, 1024]) and 10/15\n",
      "torch.Size([1, 13, 1024]) and 3/15\n",
      "torch.Size([1, 10, 1024]) and 0/12\n",
      "torch.Size([1, 6, 1024]) and 1/8\n",
      "torch.Size([1, 11, 1024]) and 1/13\n",
      "torch.Size([1, 5, 1024]) and 1/7\n",
      "torch.Size([1, 9, 1024]) and 3/11\n",
      "torch.Size([1, 11, 1024]) and 5/13\n",
      "torch.Size([1, 9, 1024]) and 6/11\n",
      "torch.Size([1, 14, 1024]) and 9/16\n",
      "torch.Size([1, 13, 1024]) and 6/15\n",
      "torch.Size([1, 14, 1024]) and 8/16\n",
      "torch.Size([1, 8, 1024]) and 0/10\n",
      "torch.Size([1, 42, 1024]) and 39/44\n",
      "torch.Size([1, 11, 1024]) and 4/13\n"
     ]
    }
   ],
   "source": [
    "indexer = ELMoTokenCharactersIndexer()\n",
    "vocab = lm_embedder._lm.vocab\n",
    "from os import listdir, path\n",
    "embeds = {}\n",
    "for word_txt in listdir(\"/content/words1\"):\n",
    "  word = word_txt.split('.')[0]\n",
    "  word_file = open(path.join(\"/content/words1\", word_txt))\n",
    "  sentences = [ f'<S> {sentence} </S>' for sentence in word_file.readlines()]\n",
    "  embeds[word] = []\n",
    "  for sentence in sentences:\n",
    "    tokens = [Token(word) for word in sentence.split()]\n",
    "    if len(sentence) == 0:\n",
    "      continue\n",
    "    if word not in sentence.split():\n",
    "      continue\n",
    "    index = sentence.split().index(word) - 1\n",
    "    character_indices = indexer.tokens_to_indices(tokens, vocab)[\"elmo_tokens\"]\n",
    "    indices_tensor = torch.LongTensor([character_indices])\n",
    "    embeddings = lm_embedder(indices_tensor)\n",
    "    print(f'{embeddings.shape} and {index}/{len(tokens)}')\n",
    "    embeds[word] +=  [embeddings[0][index]]"
   ]
  },
  {
   "cell_type": "code",
   "execution_count": null,
   "metadata": {
    "id": "UwEr32hcM6KM"
   },
   "outputs": [],
   "source": [
    "rows = []\n",
    "for word in embeds:\n",
    "  for tensor in embeds[word]:\n",
    "    row = [word]\n",
    "    for val in tensor.detach().numpy():\n",
    "      row += [val]\n",
    "    rows.append(row)\n",
    "import csv\n",
    "with open('words1.csv', 'w', newline='') as csvfile:\n",
    "  spamwriter = csv.writer(csvfile, delimiter=' ',\n",
    "                            quotechar=',', quoting=csv.QUOTE_MINIMAL)\n",
    "  spamwriter.writerows(rows)"
   ]
  },
  {
   "cell_type": "code",
   "execution_count": null,
   "metadata": {
    "colab": {
     "base_uri": "https://localhost:8080/"
    },
    "executionInfo": {
     "elapsed": 2580,
     "status": "ok",
     "timestamp": 1657112262919,
     "user": {
      "displayName": "Victor Tudose",
      "userId": "08100577777112766705"
     },
     "user_tz": -180
    },
    "id": "e-soT-iheios",
    "outputId": "90d0d303-f343-4f4f-eaa5-35587d08f3ab"
   },
   "outputs": [
    {
     "name": "stdout",
     "output_type": "stream",
     "text": [
      "torch.Size([1, 54, 1024]) and 19/56\n",
      "torch.Size([1, 24, 1024]) and 16/26\n",
      "torch.Size([1, 31, 1024]) and 13/33\n",
      "torch.Size([1, 49, 1024]) and 25/51\n",
      "torch.Size([1, 64, 1024]) and 30/66\n",
      "torch.Size([1, 20, 1024]) and 10/22\n",
      "torch.Size([1, 53, 1024]) and 1/55\n",
      "torch.Size([1, 22, 1024]) and 17/24\n",
      "torch.Size([1, 26, 1024]) and 3/28\n",
      "torch.Size([1, 26, 1024]) and 3/28\n",
      "torch.Size([1, 17, 1024]) and 4/19\n",
      "torch.Size([1, 36, 1024]) and 17/38\n",
      "torch.Size([1, 24, 1024]) and 5/26\n",
      "torch.Size([1, 22, 1024]) and 4/24\n",
      "torch.Size([1, 16, 1024]) and 6/18\n",
      "torch.Size([1, 42, 1024]) and 39/44\n",
      "torch.Size([1, 11, 1024]) and 4/13\n"
     ]
    }
   ],
   "source": [
    "embeds = {}\n",
    "for word_txt in listdir(\"/content/words2\"):\n",
    "  word = word_txt.split('.')[0]\n",
    "  word_file = open(path.join(\"/content/words2\", word_txt))\n",
    "  sentences = [ f'<S> {sentence} </S>' for sentence in word_file.readlines()]\n",
    "  embeds[word] = []\n",
    "  for sentence in sentences:\n",
    "    tokens = [Token(word) for word in sentence.split()]\n",
    "    if len(sentence) == 0:\n",
    "      continue\n",
    "    if word not in sentence.split():\n",
    "      continue\n",
    "    index = sentence.split().index(word) - 1\n",
    "    character_indices = indexer.tokens_to_indices(tokens, vocab)[\"elmo_tokens\"]\n",
    "    indices_tensor = torch.LongTensor([character_indices])\n",
    "    embeddings = lm_embedder(indices_tensor)\n",
    "    print(f'{embeddings.shape} and {index}/{len(tokens)}')\n",
    "    embeds[word] +=  [embeddings[0][index]]"
   ]
  },
  {
   "cell_type": "code",
   "execution_count": null,
   "metadata": {
    "id": "oT43xVE7epWw"
   },
   "outputs": [],
   "source": [
    "rows = []\n",
    "for word in embeds:\n",
    "  for tensor in embeds[word]:\n",
    "    row = [word]\n",
    "    for val in tensor.detach().numpy():\n",
    "      row += [val]\n",
    "    rows.append(row)\n",
    "import csv\n",
    "with open('words2.csv', 'w', newline='') as csvfile:\n",
    "  spamwriter = csv.writer(csvfile, delimiter=' ',\n",
    "                            quotechar=',', quoting=csv.QUOTE_MINIMAL)\n",
    "  spamwriter.writerows(rows)"
   ]
  }
 ],
 "metadata": {
  "colab": {
   "authorship_tag": "ABX9TyMHEKngKe4auD3a208kk4E9",
   "collapsed_sections": [],
   "mount_file_id": "159CtVJpcBdT1yDcJjOpe1RGb3ow-BDP2",
   "name": "elmo_test.ipynb",
   "provenance": []
  },
  "kernelspec": {
   "display_name": "Python 3 (ipykernel)",
   "language": "python",
   "name": "python3"
  },
  "language_info": {
   "codemirror_mode": {
    "name": "ipython",
    "version": 3
   },
   "file_extension": ".py",
   "mimetype": "text/x-python",
   "name": "python",
   "nbconvert_exporter": "python",
   "pygments_lexer": "ipython3",
   "version": "3.8.5"
  }
 },
 "nbformat": 4,
 "nbformat_minor": 1
}
